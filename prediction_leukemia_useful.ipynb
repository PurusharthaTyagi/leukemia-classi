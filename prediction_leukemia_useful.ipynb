{
  "nbformat": 4,
  "nbformat_minor": 0,
  "metadata": {
    "colab": {
      "name": "prediction_leukemia_useful.ipynb",
      "provenance": []
    },
    "kernelspec": {
      "name": "python3",
      "display_name": "Python 3"
    },
    "language_info": {
      "name": "python"
    }
  },
  "cells": [
    {
      "cell_type": "code",
      "metadata": {
        "colab": {
          "base_uri": "https://localhost:8080/"
        },
        "id": "fIKL0LDaGbno",
        "outputId": "8bd278c2-6e65-41cd-c619-e02c3e446f48"
      },
      "source": [
        "from google.colab import drive\n",
        "drive.mount('/content/drive')"
      ],
      "execution_count": 1,
      "outputs": [
        {
          "output_type": "stream",
          "name": "stdout",
          "text": [
            "Mounted at /content/drive\n"
          ]
        }
      ]
    },
    {
      "cell_type": "code",
      "metadata": {
        "id": "KbKo7eGI_yse"
      },
      "source": [
        "# data analysis\n",
        "import numpy as np\n",
        "import pandas as pd\n",
        "\n",
        "# data visualization\n",
        "import matplotlib.pyplot as plt\n",
        "import seaborn as sns\n",
        "\n",
        "# utilities\n",
        "import os\n",
        "from tqdm import tqdm\n",
        "\n",
        "# machine learning libraries\n",
        "import tensorflow as tf\n",
        "from tensorflow import keras\n",
        "from tensorflow.keras import layers\n",
        "from tensorflow.keras.models import Sequential\n",
        "import tensorflow_hub as hub"
      ],
      "execution_count": 2,
      "outputs": []
    },
    {
      "cell_type": "code",
      "metadata": {
        "id": "uTk2kaeB_1yj"
      },
      "source": [
        "IMG_SIZE = 128\n",
        "image = '/content/drive/MyDrive/data/C-NMC_Leukemia/validation_data/C-NMC_test_prelim_phase_data/139.bmp'"
      ],
      "execution_count": 39,
      "outputs": []
    },
    {
      "cell_type": "code",
      "metadata": {
        "id": "cckAa9APEEda"
      },
      "source": [
        "input_scalar = tf.reshape(image, [])"
      ],
      "execution_count": 40,
      "outputs": []
    },
    {
      "cell_type": "code",
      "metadata": {
        "id": "0t9pVNfu_5J6"
      },
      "source": [
        "def process_image(image):\n",
        "    img = tf.io.read_file(image)\n",
        "    img = tf.io.decode_bmp(img, channels=3)\n",
        "    img = tf.image.resize(img, [IMG_SIZE,IMG_SIZE])\n",
        "    img = tf.cast(img, tf.float32) / 255.0\n",
        "    return img"
      ],
      "execution_count": 41,
      "outputs": []
    },
    {
      "cell_type": "code",
      "metadata": {
        "id": "lbKGEaeDYge7"
      },
      "source": [
        "img = process_image(input_scalar)"
      ],
      "execution_count": 42,
      "outputs": []
    },
    {
      "cell_type": "code",
      "metadata": {
        "id": "sWseGMuDAXwO"
      },
      "source": [
        "image = np.expand_dims(img, axis=0)"
      ],
      "execution_count": 43,
      "outputs": []
    },
    {
      "cell_type": "code",
      "metadata": {
        "id": "9AXeWjkYDDZt"
      },
      "source": [
        "new_model = tf.keras.models.load_model(('/content/drive/MyDrive/cancer_detector.h5'),custom_objects={'KerasLayer':hub.KerasLayer})"
      ],
      "execution_count": 8,
      "outputs": []
    },
    {
      "cell_type": "code",
      "metadata": {
        "id": "20O92HqXDOoX"
      },
      "source": [
        "prediction = new_model.predict(image)\n",
        "# prediction = np.argmax(prediction,axis=1)"
      ],
      "execution_count": 44,
      "outputs": []
    },
    {
      "cell_type": "code",
      "metadata": {
        "colab": {
          "base_uri": "https://localhost:8080/"
        },
        "id": "ms7GkdXIDUgG",
        "outputId": "9c1828a0-1d24-45f6-c595-0d98bee726b8"
      },
      "source": [
        "prediction"
      ],
      "execution_count": 45,
      "outputs": [
        {
          "output_type": "execute_result",
          "data": {
            "text/plain": [
              "array([[0.10456859, 0.8954314 ]], dtype=float32)"
            ]
          },
          "metadata": {},
          "execution_count": 45
        }
      ]
    },
    {
      "cell_type": "code",
      "metadata": {
        "id": "zNApcBp5Eeqo"
      },
      "source": [
        ""
      ],
      "execution_count": null,
      "outputs": []
    }
  ]
}